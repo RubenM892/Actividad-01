{
  "nbformat": 4,
  "nbformat_minor": 0,
  "metadata": {
    "colab": {
      "name": "Tarea1.ipynb",
      "provenance": [],
      "collapsed_sections": []
    },
    "kernelspec": {
      "name": "python3",
      "display_name": "Python 3"
    }
  },
  "cells": [
    {
      "cell_type": "code",
      "metadata": {
        "id": "f7AzYR2aJKYq"
      },
      "source": [
        "value = int (input(\"Introducir un numero\"))\n",
        " \n",
        "if value %2 == 0 :\n",
        "   print(\"El numero es\",value,\"par\")\n",
        "else:\n",
        "     printf(\"El numero es\",value,\"impar\")"
      ],
      "execution_count": null,
      "outputs": []
    },
    {
      "cell_type": "code",
      "metadata": {
        "id": "FNpRbiNJl1mn",
        "outputId": "5f7ff5f9-0fac-408e-fe6d-c693954050e0",
        "colab": {
          "base_uri": "https://localhost:8080/"
        }
      },
      "source": [
        "n = str (input(\"Los caracteres son:\"))\n",
        "v = int (input(\"Se repetira:\"))\n",
        "for i in range(v):\n",
        " print(n)"
      ],
      "execution_count": null,
      "outputs": [
        {
          "output_type": "stream",
          "text": [
            "Los caracteres son:dr\n",
            "Se repetira:5\n",
            "dr\n",
            "dr\n",
            "dr\n",
            "dr\n",
            "dr\n"
          ],
          "name": "stdout"
        }
      ]
    },
    {
      "cell_type": "code",
      "metadata": {
        "id": "QxQtQ5oTl10F",
        "outputId": "56ea7db5-b52b-4eb4-f7b4-156f80a3adf0",
        "colab": {
          "base_uri": "https://localhost:8080/"
        }
      },
      "source": [
        "def trabajo(horas,costo = 150):\n",
        "  print(\"Horas\",horas,\",costo por hora\",costo,\",sueldo de un dia\",horas*costo)\n",
        "  print(\"Horas\",horas,\",costo por hora\",costo,\",sueldo de 5 dias\",5*horas*costo)\n",
        "  print(\"Horas\",horas,\",costo por hora\",costo,\",sueldo de 20 dias\",20*horas*costo)\n",
        "\n",
        "a = float(input(\"Horas cumplidas\"))\n",
        "\n",
        "trabajo(a)\n",
        "\n",
        "\n"
      ],
      "execution_count": null,
      "outputs": [
        {
          "output_type": "stream",
          "text": [
            "Horas cumplidas5\n",
            "Horas 5.0 ,costo por hora 150 ,sueldo de un dia 750.0\n",
            "Horas 5.0 ,costo por hora 150 ,sueldo de 5 dias 3750.0\n",
            "Horas 5.0 ,costo por hora 150 ,sueldo de 20 dias 15000.0\n"
          ],
          "name": "stdout"
        }
      ]
    },
    {
      "cell_type": "code",
      "metadata": {
        "id": "2dmI79P3l2Bt"
      },
      "source": [
        ""
      ],
      "execution_count": null,
      "outputs": []
    },
    {
      "cell_type": "code",
      "metadata": {
        "id": "OIqNaHuTl2OP",
        "outputId": "0ec26dac-66a6-4d1e-a7c4-fa17ca80c8c6",
        "colab": {
          "base_uri": "https://localhost:8080/"
        }
      },
      "source": [
        "print(\"1.Suma\")\n",
        "print(\"2.Resta\")\n",
        "print(\"3.Multipliacacion\")\n",
        "print(\"4.Dvision\")\n",
        "\n",
        "operacion = int (input(\"Introduzca la operacion\"))\n",
        "\n",
        "if operacion == 0:\n",
        "  print('error')\n",
        "if operacion == 1:\n",
        "\n",
        " a = float (input(\"Valor de a\"))\n",
        " b = float (input(\"Valor de b\"))\n",
        " c = a + b\n",
        " print(\"La suma de a +b es:\",a + b)\n",
        "if operacion == 2:\n",
        " \n",
        " a = float (input(\"Valor de a\"))\n",
        " b = float (input(\"Valor de b\"))\n",
        " c = a - b\n",
        " print(\"La resta de a -b es:\",a - b)\n",
        "if operacion == 3:\n",
        "  \n",
        " a = float (input(\"Valor de a\"))\n",
        " b = float (input(\"Valor de b\"))\n",
        " c = a * b\n",
        " print(\"La multplicacion de a *b es:\",a *b)        \n",
        "if operacion == 4:\n",
        "  \n",
        " a = float (input(\"Valor de a\"))\n",
        " b = float (input(\"Valor de b\"))\n",
        "\n",
        "while b == 0:\n",
        "  b = float (input(\"Ingrese otro numero\"))\n",
        "  c = a / b\n",
        "\n",
        "  print(\"La division de a /b es:\",a / b)\n"
      ],
      "execution_count": null,
      "outputs": [
        {
          "output_type": "stream",
          "text": [
            "1.Suma\n",
            "2.Resta\n",
            "3.Multipliacacion\n",
            "4.Dvision\n",
            "Introduzca la operacion3\n",
            "Valor de a5\n",
            "Valor de b8\n",
            "La multplicacion de a *b es: 40.0\n"
          ],
          "name": "stdout"
        }
      ]
    },
    {
      "cell_type": "code",
      "metadata": {
        "id": "TP7bFxQ8l2JO",
        "outputId": "438180a6-0639-44b4-dbf7-e014d2f7cf79",
        "colab": {
          "base_uri": "https://localhost:8080/"
        }
      },
      "source": [
        "def jugueteria(payaso,juegodemesa):\n",
        "     if (payaso + juegodemesa > 10 ):\n",
        "      print(\"ERROR\")\n",
        "      print(\"El peso de los payasos y los juegos de mesa exeden los 10Kg por:\",((150 * a) + (b * 170)) -10000)\n",
        "      return False\n",
        "    \n",
        "a = int (input(\"ingrese cuantos payasos quiere: \"))\n",
        "b = int (input(\"Ingrese cuantos juegos de mesa quiere: \"))\n",
        " \n",
        "jugueteria(a,b)"
      ],
      "execution_count": null,
      "outputs": [
        {
          "output_type": "stream",
          "text": [
            "ingrese cuantos payasos quiere: 50\n",
            "Ingrese cuantos juegos de mesa quiere: 50\n",
            "ERROR\n",
            "El peso de los payasos y los juegos de mesa exeden los 10Kg por: 6000\n"
          ],
          "name": "stdout"
        },
        {
          "output_type": "execute_result",
          "data": {
            "text/plain": [
              "False"
            ]
          },
          "metadata": {
            "tags": []
          },
          "execution_count": 1
        }
      ]
    },
    {
      "cell_type": "code",
      "metadata": {
        "id": "4-efbGx3l194",
        "outputId": "e641413d-ba75-4e71-9859-c9911b818cb2",
        "colab": {
          "base_uri": "https://localhost:8080/",
          "height": 129
        }
      },
      "source": [
        "def impuesto(salario):\n",
        "  \n",
        "  if salario < 10000:\n",
        "    print(\"Se encuntra en el rango de impuesto del 5%\")\n",
        "    print(\"Su salario ya con el descuento de impuesto es:\",a - ((a * 5) / 100) \n",
        "    return True\n",
        "  if 10000 < salario < 15000 :\n",
        "    print(\"Se encuntra en el rango de impuesto del 10%\")\n",
        "    print(\"Su salario ya con el descuento de impuesto es:\",a - ((a * 10) / 100))\n",
        "    return True \n",
        "  if 15000 < salario < 20000:\n",
        "    print(\"Se encuntra en el rango de impuesto del 15%\")\n",
        "    print(\"Su salario ya con el descuento de impuesto es:\",a - ((a * 15) / 100))\n",
        "    return True \n",
        "  if salario > 20000 \n",
        "    print(\"Se encuntra en el rango de impuesto del 18%\")\n",
        "    print(\"Su salario ya con el descuento de impuesto es:\",a - ((a * 18) / 100))\n",
        "    return True \n",
        "    \n",
        "a = int (input(\"ingrese su salario mensual : \"))\n",
        "impuesto(a)"
      ],
      "execution_count": 24,
      "outputs": [
        {
          "output_type": "error",
          "ename": "SyntaxError",
          "evalue": "ignored",
          "traceback": [
            "\u001b[0;36m  File \u001b[0;32m\"<ipython-input-24-c86349e834b0>\"\u001b[0;36m, line \u001b[0;32m6\u001b[0m\n\u001b[0;31m    return True\u001b[0m\n\u001b[0m         ^\u001b[0m\n\u001b[0;31mSyntaxError\u001b[0m\u001b[0;31m:\u001b[0m invalid syntax\n"
          ]
        }
      ]
    },
    {
      "cell_type": "code",
      "metadata": {
        "id": "u0QeG6Wh1ySV",
        "outputId": "9a432e01-4921-4a88-e576-d9a7faf5c55d",
        "colab": {
          "base_uri": "https://localhost:8080/"
        }
      },
      "source": [
        "print(\"Si Usted es estudiante tiene un descuento del 10% \")\n",
        "print(\"Si Usted es docente tiene un descuento del 30% \")\n",
        "print(\"Si Usted tiene credencial de INAPAM tiene un descuento del 50% \")\n",
        "print(\"Si Usted no tiene ocupacion ponga otra \")\n",
        "def museo(edad,ocupasion):\n",
        "  \n",
        "  if edad < 4 and \"otra\":\n",
        "    print(\"gratris\")  \n",
        "  if 4 < edad <= 16 and \"otra\":\n",
        "    print(\"El costo de entrada es de $50\")\n",
        "  if edad > 16 and \"otra\" :\n",
        "    print(\"El costo de la entrada es de $100\") \n",
        "  \n",
        "  if 4 < edad <=  16 and \"estudiante\":\n",
        "    print(\"Tiene un descuento del 10% por lo tanto su costo sera de : $90\")\n",
        "  \n",
        "  if edad >16 and \"docente\" :\n",
        "    print(\"Tiene un descuento del 30% por lo tanto su costo sera de : $70\")\n",
        "    \n",
        "  if edad >16 and \"INAPAM\" :\n",
        "    print(\"Tiene un descuento del 50% por lo tanto su costo sera de : $50\")\n",
        "   \n",
        "  \n",
        "a = int (input(\"ingrese su edad: \"))\n",
        "b = str (input(\"ingrese su ocupasion: \"))\n",
        "\n",
        "museo(a,b)\n"
      ],
      "execution_count": 8,
      "outputs": [
        {
          "output_type": "stream",
          "text": [
            "Si Usted es estudiante tiene un descuento del 10% \n",
            "Si Usted es docente tiene un descuento del 30% \n",
            "Si Usted tiene credencial de INAPAM tiene un descuento del 50% \n",
            "Si Usted no tiene ocupacion ponga otra \n",
            "ingrese su edad: 40\n",
            "ingrese su ocupasion: docente\n",
            "El costo de la entrada es de $100\n",
            "Tiene un descuento del 30% por lo tanto su costo sera de : $70\n",
            "Tiene un descuento del 50% por lo tanto su costo sera de : $50\n"
          ],
          "name": "stdout"
        }
      ]
    },
    {
      "cell_type": "code",
      "metadata": {
        "id": "aU3q2nUeDJLK",
        "outputId": "73bd6a5b-9669-4864-d7a8-c95c1bd9d15c",
        "colab": {
          "base_uri": "https://localhost:8080/",
          "height": 435
        }
      },
      "source": [
        "edad = [\"Menor de 4años\",\"Entre 4 y 16 años\",\"Adulto\"]\n",
        "descuentos = [\"Estudiante con credencial\",\"Docente con credencial\",\"Credencial del INAPAM\",\"otra\",]\n",
        "\n",
        "print(\"1.Menor de 4 años\",)\n",
        "print(\"2.Entre 4 y 16 años\")\n",
        "print(\"3.Adulto\\n\")\n",
        "\n",
        "print(\"1.Etudiante con credencial\")\n",
        "print(\"2.Docente con credencial\")\n",
        "print(\"3.Credencial del INAPAM\")\n",
        "print(\"4.Otra\\n\")\n",
        "\n",
        "e = int (input(\"Ingrese su edad: \"))\n",
        "d = str (input(\"Ingrese su credencial: \"))\n",
        "\n",
        "if e < 4 and \"otra\" :\n",
        "   print(\"gratris\")\n",
        "\n",
        "if e > 4 < 16 and \"otra\":\n",
        "   print(\"Costo de entrada $50\") \n",
        "\n",
        "if e > 4 > 16 and \"otra\":\n",
        "   print(\"Costo de entrada $100\") \n",
        "\n",
        "if e < 4 < 16 and \"Estudiante con credencial\" :\n",
        "   print(\"Tiene un descuento del 10%\")\n",
        "   print(\"Costo de entrada $90\") \n",
        "\n",
        "if e < 4 > 16 and \"Docente copn credencial\" :\n",
        "   print(\"Tiene un descuento del 30%\")\n",
        "   print(\"Costo de entrada $70\") \n",
        "\n",
        "if e < 4 > 16 and \"Credencial del INAPAM\" :\n",
        "   print(\"Tiene un descuento del 50%\")\n",
        "   print(\"Costo de entrada $50\") \n",
        "   \n",
        "print(edad(e))\n",
        "print(descuento(d))\n",
        "res = par(e,p)\n",
        "\n",
        "\n"
      ],
      "execution_count": null,
      "outputs": [
        {
          "output_type": "stream",
          "text": [
            "1.Menor de 4 años\n",
            "2.Entre 4 y 16 años\n",
            "3.Adulto\n",
            "\n",
            "1.Etudiante con credencial\n",
            "2.Docente con credencial\n",
            "3.Credencial del INAPAM\n",
            "4.Otra\n",
            "\n",
            "Ingrese su edad: 17\n",
            "Ingrese su credencial: Docente con crdencial\n",
            "Costo de entrada $50\n"
          ],
          "name": "stdout"
        },
        {
          "output_type": "error",
          "ename": "TypeError",
          "evalue": "ignored",
          "traceback": [
            "\u001b[0;31m---------------------------------------------------------------------------\u001b[0m",
            "\u001b[0;31mTypeError\u001b[0m                                 Traceback (most recent call last)",
            "\u001b[0;32m<ipython-input-14-7c606d1631f7>\u001b[0m in \u001b[0;36m<module>\u001b[0;34m()\u001b[0m\n\u001b[1;32m     35\u001b[0m    \u001b[0mprint\u001b[0m\u001b[0;34m(\u001b[0m\u001b[0;34m\"Costo de entrada $50\"\u001b[0m\u001b[0;34m)\u001b[0m\u001b[0;34m\u001b[0m\u001b[0;34m\u001b[0m\u001b[0m\n\u001b[1;32m     36\u001b[0m \u001b[0;34m\u001b[0m\u001b[0m\n\u001b[0;32m---> 37\u001b[0;31m \u001b[0mprint\u001b[0m\u001b[0;34m(\u001b[0m\u001b[0medad\u001b[0m\u001b[0;34m(\u001b[0m\u001b[0me\u001b[0m\u001b[0;34m)\u001b[0m\u001b[0;34m)\u001b[0m\u001b[0;34m\u001b[0m\u001b[0;34m\u001b[0m\u001b[0m\n\u001b[0m\u001b[1;32m     38\u001b[0m \u001b[0mprint\u001b[0m\u001b[0;34m(\u001b[0m\u001b[0mdescuento\u001b[0m\u001b[0;34m(\u001b[0m\u001b[0md\u001b[0m\u001b[0;34m)\u001b[0m\u001b[0;34m)\u001b[0m\u001b[0;34m\u001b[0m\u001b[0;34m\u001b[0m\u001b[0m\n\u001b[1;32m     39\u001b[0m \u001b[0mres\u001b[0m \u001b[0;34m=\u001b[0m \u001b[0mpar\u001b[0m\u001b[0;34m(\u001b[0m\u001b[0me\u001b[0m\u001b[0;34m,\u001b[0m\u001b[0mp\u001b[0m\u001b[0;34m)\u001b[0m\u001b[0;34m\u001b[0m\u001b[0;34m\u001b[0m\u001b[0m\n",
            "\u001b[0;31mTypeError\u001b[0m: 'list' object is not callable"
          ]
        }
      ]
    },
    {
      "cell_type": "code",
      "metadata": {
        "id": "mTGEm2OhQdpc",
        "outputId": "5e972162-7d0c-4d97-dcf0-fb8ccfbb85ac",
        "colab": {
          "base_uri": "https://localhost:8080/"
        }
      },
      "source": [
        "def piramide(n):\n",
        " \n",
        "  for i in range(1,n+1):\n",
        "   \"*\" * i\n",
        " \n",
        "  return \"\\n\". join([\"*\" * i for i in range(1,n+1)])\n",
        "n = int (input(\"Ingrese un numero\"))\n",
        " \n",
        "print(piramide(n))"
      ],
      "execution_count": null,
      "outputs": [
        {
          "output_type": "stream",
          "text": [
            "Ingrese un numero4\n",
            "*\n",
            "**\n",
            "***\n",
            "****\n"
          ],
          "name": "stdout"
        }
      ]
    },
    {
      "cell_type": "code",
      "metadata": {
        "id": "25H-zhssMl-F",
        "outputId": "697d17a6-a96f-4327-af0a-814c0410b1fe",
        "colab": {
          "base_uri": "https://localhost:8080/"
        }
      },
      "source": [
        "n = int (input(\"Ingrese un numero :\"))\n",
        "v = int(n)\n",
        "\n",
        "con = 1\n",
        "z = 1\n",
        "while z <= v:\n",
        "  con = con * z\n",
        "  z = z +1\n",
        "print(con)"
      ],
      "execution_count": null,
      "outputs": [
        {
          "output_type": "stream",
          "text": [
            "Ingrese un numero :5\n",
            "120\n"
          ],
          "name": "stdout"
        }
      ]
    },
    {
      "cell_type": "code",
      "metadata": {
        "id": "rI4PhV4SYHNK",
        "outputId": "b5a2a515-689b-46ef-ce91-f3e098a234a7",
        "colab": {
          "base_uri": "https://localhost:8080/",
          "height": 544
        }
      },
      "source": [
        "def area(radio):\n",
        "  print(\"Su area es: \",3.1416 * radio ** 2 )\n",
        "\n",
        "a = float (input(\"Ingrese el radio: \"))\n",
        "\n",
        "area(a)\n",
        "\n",
        "def volumen(radio,altura):\n",
        "  print(\"Su volumen es: \",altura*3.1416*radio**2)\n",
        "\n",
        "\n",
        "b = float (input(\"Ingrese el valor de la altura: \"))\n",
        "\n",
        "volumen(a,b)"
      ],
      "execution_count": null,
      "outputs": [
        {
          "output_type": "stream",
          "text": [
            "Su area es:  28.2744\n"
          ],
          "name": "stdout"
        },
        {
          "output_type": "error",
          "ename": "KeyboardInterrupt",
          "evalue": "ignored",
          "traceback": [
            "\u001b[0;31m---------------------------------------------------------------------------\u001b[0m",
            "\u001b[0;31mKeyboardInterrupt\u001b[0m                         Traceback (most recent call last)",
            "\u001b[0;32m/usr/local/lib/python3.6/dist-packages/ipykernel/kernelbase.py\u001b[0m in \u001b[0;36m_input_request\u001b[0;34m(self, prompt, ident, parent, password)\u001b[0m\n\u001b[1;32m    728\u001b[0m             \u001b[0;32mtry\u001b[0m\u001b[0;34m:\u001b[0m\u001b[0;34m\u001b[0m\u001b[0;34m\u001b[0m\u001b[0m\n\u001b[0;32m--> 729\u001b[0;31m                 \u001b[0mident\u001b[0m\u001b[0;34m,\u001b[0m \u001b[0mreply\u001b[0m \u001b[0;34m=\u001b[0m \u001b[0mself\u001b[0m\u001b[0;34m.\u001b[0m\u001b[0msession\u001b[0m\u001b[0;34m.\u001b[0m\u001b[0mrecv\u001b[0m\u001b[0;34m(\u001b[0m\u001b[0mself\u001b[0m\u001b[0;34m.\u001b[0m\u001b[0mstdin_socket\u001b[0m\u001b[0;34m,\u001b[0m \u001b[0;36m0\u001b[0m\u001b[0;34m)\u001b[0m\u001b[0;34m\u001b[0m\u001b[0;34m\u001b[0m\u001b[0m\n\u001b[0m\u001b[1;32m    730\u001b[0m             \u001b[0;32mexcept\u001b[0m \u001b[0mException\u001b[0m\u001b[0;34m:\u001b[0m\u001b[0;34m\u001b[0m\u001b[0;34m\u001b[0m\u001b[0m\n",
            "\u001b[0;32m/usr/local/lib/python3.6/dist-packages/jupyter_client/session.py\u001b[0m in \u001b[0;36mrecv\u001b[0;34m(self, socket, mode, content, copy)\u001b[0m\n\u001b[1;32m    802\u001b[0m         \u001b[0;32mtry\u001b[0m\u001b[0;34m:\u001b[0m\u001b[0;34m\u001b[0m\u001b[0;34m\u001b[0m\u001b[0m\n\u001b[0;32m--> 803\u001b[0;31m             \u001b[0mmsg_list\u001b[0m \u001b[0;34m=\u001b[0m \u001b[0msocket\u001b[0m\u001b[0;34m.\u001b[0m\u001b[0mrecv_multipart\u001b[0m\u001b[0;34m(\u001b[0m\u001b[0mmode\u001b[0m\u001b[0;34m,\u001b[0m \u001b[0mcopy\u001b[0m\u001b[0;34m=\u001b[0m\u001b[0mcopy\u001b[0m\u001b[0;34m)\u001b[0m\u001b[0;34m\u001b[0m\u001b[0;34m\u001b[0m\u001b[0m\n\u001b[0m\u001b[1;32m    804\u001b[0m         \u001b[0;32mexcept\u001b[0m \u001b[0mzmq\u001b[0m\u001b[0;34m.\u001b[0m\u001b[0mZMQError\u001b[0m \u001b[0;32mas\u001b[0m \u001b[0me\u001b[0m\u001b[0;34m:\u001b[0m\u001b[0;34m\u001b[0m\u001b[0;34m\u001b[0m\u001b[0m\n",
            "\u001b[0;32m/usr/local/lib/python3.6/dist-packages/zmq/sugar/socket.py\u001b[0m in \u001b[0;36mrecv_multipart\u001b[0;34m(self, flags, copy, track)\u001b[0m\n\u001b[1;32m    490\u001b[0m         \"\"\"\n\u001b[0;32m--> 491\u001b[0;31m         \u001b[0mparts\u001b[0m \u001b[0;34m=\u001b[0m \u001b[0;34m[\u001b[0m\u001b[0mself\u001b[0m\u001b[0;34m.\u001b[0m\u001b[0mrecv\u001b[0m\u001b[0;34m(\u001b[0m\u001b[0mflags\u001b[0m\u001b[0;34m,\u001b[0m \u001b[0mcopy\u001b[0m\u001b[0;34m=\u001b[0m\u001b[0mcopy\u001b[0m\u001b[0;34m,\u001b[0m \u001b[0mtrack\u001b[0m\u001b[0;34m=\u001b[0m\u001b[0mtrack\u001b[0m\u001b[0;34m)\u001b[0m\u001b[0;34m]\u001b[0m\u001b[0;34m\u001b[0m\u001b[0;34m\u001b[0m\u001b[0m\n\u001b[0m\u001b[1;32m    492\u001b[0m         \u001b[0;31m# have first part already, only loop while more to receive\u001b[0m\u001b[0;34m\u001b[0m\u001b[0;34m\u001b[0m\u001b[0;34m\u001b[0m\u001b[0m\n",
            "\u001b[0;32mzmq/backend/cython/socket.pyx\u001b[0m in \u001b[0;36mzmq.backend.cython.socket.Socket.recv\u001b[0;34m()\u001b[0m\n",
            "\u001b[0;32mzmq/backend/cython/socket.pyx\u001b[0m in \u001b[0;36mzmq.backend.cython.socket.Socket.recv\u001b[0;34m()\u001b[0m\n",
            "\u001b[0;32mzmq/backend/cython/socket.pyx\u001b[0m in \u001b[0;36mzmq.backend.cython.socket._recv_copy\u001b[0;34m()\u001b[0m\n",
            "\u001b[0;32m/usr/local/lib/python3.6/dist-packages/zmq/backend/cython/checkrc.pxd\u001b[0m in \u001b[0;36mzmq.backend.cython.checkrc._check_rc\u001b[0;34m()\u001b[0m\n",
            "\u001b[0;31mKeyboardInterrupt\u001b[0m: ",
            "\nDuring handling of the above exception, another exception occurred:\n",
            "\u001b[0;31mKeyboardInterrupt\u001b[0m                         Traceback (most recent call last)",
            "\u001b[0;32m<ipython-input-17-510d5853ef63>\u001b[0m in \u001b[0;36m<module>\u001b[0;34m()\u001b[0m\n\u001b[1;32m     10\u001b[0m \u001b[0;34m\u001b[0m\u001b[0m\n\u001b[1;32m     11\u001b[0m \u001b[0;34m\u001b[0m\u001b[0m\n\u001b[0;32m---> 12\u001b[0;31m \u001b[0mb\u001b[0m \u001b[0;34m=\u001b[0m \u001b[0mfloat\u001b[0m \u001b[0;34m(\u001b[0m\u001b[0minput\u001b[0m\u001b[0;34m(\u001b[0m\u001b[0;34m\"Ingrese el valor de la altura: \"\u001b[0m\u001b[0;34m)\u001b[0m\u001b[0;34m)\u001b[0m\u001b[0;34m\u001b[0m\u001b[0;34m\u001b[0m\u001b[0m\n\u001b[0m\u001b[1;32m     13\u001b[0m \u001b[0;34m\u001b[0m\u001b[0m\n\u001b[1;32m     14\u001b[0m \u001b[0mvolumen\u001b[0m\u001b[0;34m(\u001b[0m\u001b[0ma\u001b[0m\u001b[0;34m,\u001b[0m\u001b[0mb\u001b[0m\u001b[0;34m)\u001b[0m\u001b[0;34m\u001b[0m\u001b[0;34m\u001b[0m\u001b[0m\n",
            "\u001b[0;32m/usr/local/lib/python3.6/dist-packages/ipykernel/kernelbase.py\u001b[0m in \u001b[0;36mraw_input\u001b[0;34m(self, prompt)\u001b[0m\n\u001b[1;32m    702\u001b[0m             \u001b[0mself\u001b[0m\u001b[0;34m.\u001b[0m\u001b[0m_parent_ident\u001b[0m\u001b[0;34m,\u001b[0m\u001b[0;34m\u001b[0m\u001b[0;34m\u001b[0m\u001b[0m\n\u001b[1;32m    703\u001b[0m             \u001b[0mself\u001b[0m\u001b[0;34m.\u001b[0m\u001b[0m_parent_header\u001b[0m\u001b[0;34m,\u001b[0m\u001b[0;34m\u001b[0m\u001b[0;34m\u001b[0m\u001b[0m\n\u001b[0;32m--> 704\u001b[0;31m             \u001b[0mpassword\u001b[0m\u001b[0;34m=\u001b[0m\u001b[0;32mFalse\u001b[0m\u001b[0;34m,\u001b[0m\u001b[0;34m\u001b[0m\u001b[0;34m\u001b[0m\u001b[0m\n\u001b[0m\u001b[1;32m    705\u001b[0m         )\n\u001b[1;32m    706\u001b[0m \u001b[0;34m\u001b[0m\u001b[0m\n",
            "\u001b[0;32m/usr/local/lib/python3.6/dist-packages/ipykernel/kernelbase.py\u001b[0m in \u001b[0;36m_input_request\u001b[0;34m(self, prompt, ident, parent, password)\u001b[0m\n\u001b[1;32m    732\u001b[0m             \u001b[0;32mexcept\u001b[0m \u001b[0mKeyboardInterrupt\u001b[0m\u001b[0;34m:\u001b[0m\u001b[0;34m\u001b[0m\u001b[0;34m\u001b[0m\u001b[0m\n\u001b[1;32m    733\u001b[0m                 \u001b[0;31m# re-raise KeyboardInterrupt, to truncate traceback\u001b[0m\u001b[0;34m\u001b[0m\u001b[0;34m\u001b[0m\u001b[0;34m\u001b[0m\u001b[0m\n\u001b[0;32m--> 734\u001b[0;31m                 \u001b[0;32mraise\u001b[0m \u001b[0mKeyboardInterrupt\u001b[0m\u001b[0;34m\u001b[0m\u001b[0;34m\u001b[0m\u001b[0m\n\u001b[0m\u001b[1;32m    735\u001b[0m             \u001b[0;32melse\u001b[0m\u001b[0;34m:\u001b[0m\u001b[0;34m\u001b[0m\u001b[0;34m\u001b[0m\u001b[0m\n\u001b[1;32m    736\u001b[0m                 \u001b[0;32mbreak\u001b[0m\u001b[0;34m\u001b[0m\u001b[0;34m\u001b[0m\u001b[0m\n",
            "\u001b[0;31mKeyboardInterrupt\u001b[0m: "
          ]
        }
      ]
    }
  ]
}